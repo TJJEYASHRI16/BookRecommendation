{
 "cells": [
  {
   "cell_type": "code",
   "execution_count": null,
   "id": "1ca922f2",
   "metadata": {},
   "outputs": [],
   "source": [
    "import numpy as np # linear algebra\n",
    "import pandas as pd\n",
    "import matplotlib.pyplot as plt\n",
    "import seaborn as sns\n",
    "from sklearn.model_selection import train_test_split\n",
    "from sklearn.cluster import KMeans"
   ]
  },
  {
   "cell_type": "code",
   "execution_count": null,
   "id": "19a9232f",
   "metadata": {},
   "outputs": [],
   "source": [
    "#Import Dataset \n",
    "df_books = pd.read_csv(\"D:\\\\TJ\\\\MACHINELEARNING\\\\BookRecommendation\\\\datasets\\\\books_data.csv\");"
   ]
  },
  {
   "cell_type": "code",
   "execution_count": null,
   "id": "daa5da90",
   "metadata": {},
   "outputs": [],
   "source": [
    "df_rating = pd.read_csv(\"D:\\\\TJ\\\\MACHINELEARNING\\\\BookRecommendation\\\\datasets\\\\Books_rating.csv\");"
   ]
  },
  {
   "cell_type": "code",
   "execution_count": null,
   "id": "c2e21bc3",
   "metadata": {},
   "outputs": [],
   "source": [
    "df_books.head()"
   ]
  },
  {
   "cell_type": "code",
   "execution_count": null,
   "id": "162e4628",
   "metadata": {},
   "outputs": [],
   "source": [
    "df_rating.head()"
   ]
  },
  {
   "cell_type": "code",
   "execution_count": null,
   "id": "e86cdf1f",
   "metadata": {},
   "outputs": [],
   "source": [
    "books_data = pd.merge(df_books,df_rating)"
   ]
  },
  {
   "cell_type": "code",
   "execution_count": null,
   "id": "8692980a",
   "metadata": {},
   "outputs": [],
   "source": [
    "books_data.info()"
   ]
  },
  {
   "cell_type": "code",
   "execution_count": null,
   "id": "86eb0447",
   "metadata": {},
   "outputs": [],
   "source": [
    "books_data.describe()"
   ]
  },
  {
   "cell_type": "code",
   "execution_count": null,
   "id": "7dc696c7",
   "metadata": {},
   "outputs": [],
   "source": [
    "#Drop Rows with missing values \n",
    "books_data=books_data.dropna()"
   ]
  },
  {
   "cell_type": "code",
   "execution_count": null,
   "id": "68bf231b",
   "metadata": {},
   "outputs": [],
   "source": [
    "#Since Dataset is huge , Sampling dataset with 4% data\n",
    "books_data_sample = books_data.sample(frac=.1,random_state=1)\n",
    "books_data_sample.shape"
   ]
  },
  {
   "cell_type": "code",
   "execution_count": null,
   "id": "ef44a295",
   "metadata": {},
   "outputs": [],
   "source": [
    "books_data_sample.head()"
   ]
  },
  {
   "cell_type": "code",
   "execution_count": null,
   "id": "c4f78936",
   "metadata": {},
   "outputs": [],
   "source": [
    "books_data_pivoted = books_data_sample.pivot_table(index='Title',values='review/score', aggfunc='mean').fillna(0)\n",
    "books_data_pivoted\n"
   ]
  },
  {
   "cell_type": "code",
   "execution_count": null,
   "id": "aa23566d",
   "metadata": {},
   "outputs": [],
   "source": [
    "#Split The test and train data 60 train and 40 test\n",
    "books_data_train, books_data_test = train_test_split(books_data_pivoted, test_size=0.2, random_state=42) \n",
    "books_data_train"
   ]
  },
  {
   "cell_type": "code",
   "execution_count": null,
   "id": "a87c36b8",
   "metadata": {},
   "outputs": [],
   "source": [
    "books_data_test"
   ]
  },
  {
   "cell_type": "code",
   "execution_count": null,
   "id": "be9c848d",
   "metadata": {},
   "outputs": [],
   "source": [
    "plt.hist(books_data_train['review/score'].to_numpy())"
   ]
  },
  {
   "cell_type": "code",
   "execution_count": null,
   "id": "d2de7340",
   "metadata": {},
   "outputs": [],
   "source": [
    "#Build NN Model\n",
    "from sklearn.neighbors import NearestNeighbors\n",
    "\n",
    "# Build NearestNeighbors Object\n",
    "model_nn = NearestNeighbors(metric='cosine', algorithm='brute', n_neighbors=30, n_jobs=-1)\n",
    "\n",
    "# Fit the NearestNeighbor\n",
    "model_nn.fit(books_data_train['review/score'].to_numpy().reshape(-1, 1))"
   ]
  },
  {
   "cell_type": "code",
   "execution_count": null,
   "id": "85b721bc",
   "metadata": {},
   "outputs": [],
   "source": [
    "# Get top 10 nearest neighbors based on rating or review/score\n",
    "print(books_data_test.iloc[2])\n",
    "indices=model_nn.kneighbors(books_data_test.iloc[[2]], 10, return_distance=False)\n",
    "print(indices)\n",
    "\n",
    "# Print the recommended books\n",
    "print(\"Recommended Books:\")\n",
    "print(\"==================\")\n",
    "for i in range(0, len(indices[0])):\n",
    "    print((i+1),\". \",books_data_train.iloc[indices[0][i]])"
   ]
  },
  {
   "cell_type": "code",
   "execution_count": null,
   "id": "71577185",
   "metadata": {},
   "outputs": [],
   "source": [
    "kmeans = KMeans(n_clusters=7, random_state=0)\n",
    "cluster_labels = kmeans.fit_predict(books_data_train['review/score'].to_numpy().reshape(-1, 1))"
   ]
  },
  {
   "cell_type": "code",
   "execution_count": null,
   "id": "aeb10d8d",
   "metadata": {},
   "outputs": [],
   "source": [
    "print(books_data_test.iloc[2])\n",
    "predictedLabel = kmeans.predict(books_data_test.iloc[2]['review/score'].reshape(-1, 1))\n",
    "predictedLabel[0]\n",
    "predictedBookIndices = np.where(kmeans.labels_ == predictedLabel[0])\n",
    "print(\"Recommended Books:\")\n",
    "print(\"==================\")\n",
    "for i in range(0, 10):\n",
    "    print((i+1),\". \",books_data_train.iloc[predictedBookIndices[0][i]])"
   ]
  },
  {
   "cell_type": "code",
   "execution_count": null,
   "id": "b141c2b3",
   "metadata": {},
   "outputs": [],
   "source": [
    "from sklearn import metrics\n",
    "silhouette = metrics.silhouette_score(books_data_train['review/score'].to_numpy().reshape(-1, 1), cluster_labels)\n",
    "dunn = metrics.davies_bouldin_score(books_data_train['review/score'].to_numpy().reshape(-1, 1), cluster_labels)\n",
    "chs = metrics.calinski_harabasz_score(books_data_train['review/score'].to_numpy().reshape(-1, 1), cluster_labels)\n",
    "print(\"kMeans: silhouette: \", silhouette, \", dunn: \", dunn, \", chs: \", chs)"
   ]
  },
  {
   "cell_type": "code",
   "execution_count": null,
   "id": "83edf42a",
   "metadata": {},
   "outputs": [],
   "source": [
    "from scipy.cluster.hierarchy import dendrogram, linkage\n",
    "import scipy.cluster.hierarchy as shc\n",
    "from matplotlib import pyplot as plt\n",
    "dend = shc.dendrogram(shc.linkage(books_data_pivoted['review/score'].to_numpy().reshape(-1, 1), method = 'ward'))\n"
   ]
  },
  {
   "cell_type": "code",
   "execution_count": null,
   "id": "a5469d5b",
   "metadata": {},
   "outputs": [],
   "source": [
    "from sklearn.cluster import AgglomerativeClustering\n",
    "cluster = AgglomerativeClustering(n_clusters = 5, affinity = 'euclidean', linkage = 'ward')\n",
    "predictedLabelAgglomerative = cluster.fit_predict(books_data_pivoted['review/score'].to_numpy().reshape(-1, 1))"
   ]
  },
  {
   "cell_type": "code",
   "execution_count": null,
   "id": "9f36d1ad",
   "metadata": {},
   "outputs": [],
   "source": [
    "silhouette_agglomerative = metrics.silhouette_score(books_data_pivoted['review/score'].to_numpy().reshape(-1, 1), predictedLabelAgglomerative)\n",
    "dunn_aglomerative = metrics.davies_bouldin_score(books_data_pivoted['review/score'].to_numpy().reshape(-1, 1), predictedLabelAgglomerative)\n",
    "chs_aglomerative = metrics.calinski_harabasz_score(books_data_pivoted['review/score'].to_numpy().reshape(-1, 1), predictedLabelAgglomerative)\n",
    "print(\"Agglomerative: silhouette: \", silhouette_agglomerative, \", dunn: \", dunn_aglomerative, \", chs: \", chs_aglomerative)"
   ]
  },
  {
   "cell_type": "code",
   "execution_count": null,
   "id": "c4e4e228",
   "metadata": {},
   "outputs": [],
   "source": [
    "books_data_cluster = books_data_pivoted.copy()\n",
    "books_data_cluster['Cluster'] = predictedLabelAgglomerative"
   ]
  },
  {
   "cell_type": "code",
   "execution_count": null,
   "id": "c6e1a1d6",
   "metadata": {},
   "outputs": [],
   "source": [
    "book = books_data_cluster.iloc[10]\n",
    "print(book)\n",
    "\n",
    "cluster = book['Cluster']\n",
    "predictedBookIndicesAgglomerative = np.where(predictedLabelAgglomerative == cluster)\n",
    "print(\"Recommended Books:\")\n",
    "print(\"==================\")\n",
    "for i in range(0, 10):\n",
    "    print((i+1),\". \",books_data_cluster.iloc[predictedBookIndicesAgglomerative[0][i]])"
   ]
  }
 ],
 "metadata": {
  "kernelspec": {
   "display_name": "Python 3 (ipykernel)",
   "language": "python",
   "name": "python3"
  },
  "language_info": {
   "codemirror_mode": {
    "name": "ipython",
    "version": 3
   },
   "file_extension": ".py",
   "mimetype": "text/x-python",
   "name": "python",
   "nbconvert_exporter": "python",
   "pygments_lexer": "ipython3",
   "version": "3.9.12"
  }
 },
 "nbformat": 4,
 "nbformat_minor": 5
}
