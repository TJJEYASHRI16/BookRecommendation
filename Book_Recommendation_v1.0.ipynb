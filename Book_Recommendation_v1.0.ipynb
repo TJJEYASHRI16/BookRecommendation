{
 "cells": [
  {
   "cell_type": "code",
   "execution_count": 1,
   "id": "1ca922f2",
   "metadata": {},
   "outputs": [],
   "source": [
    "import numpy as np # linear algebra\n",
    "import pandas as pd\n",
    "import matplotlib.pyplot as plt\n",
    "import seaborn as sns\n",
    "from sklearn.model_selection import train_test_split\n",
    "from sklearn.cluster import KMeans"
   ]
  },
  {
   "cell_type": "code",
   "execution_count": 2,
   "id": "19a9232f",
   "metadata": {},
   "outputs": [],
   "source": [
    "#Import Dataset \n",
    "df_books = pd.read_csv(\"D:\\\\TJ\\\\MACHINELEARNING\\\\BookRecommendation\\\\datasets\\\\books_data.csv\");"
   ]
  },
  {
   "cell_type": "code",
   "execution_count": 3,
   "id": "daa5da90",
   "metadata": {},
   "outputs": [],
   "source": [
    "df_rating = pd.read_csv(\"D:\\\\TJ\\\\MACHINELEARNING\\\\BookRecommendation\\\\datasets\\\\Books_rating.csv\");"
   ]
  },
  {
   "cell_type": "code",
   "execution_count": 4,
   "id": "c2e21bc3",
   "metadata": {},
   "outputs": [
    {
     "data": {
      "text/html": [
       "<div>\n",
       "<style scoped>\n",
       "    .dataframe tbody tr th:only-of-type {\n",
       "        vertical-align: middle;\n",
       "    }\n",
       "\n",
       "    .dataframe tbody tr th {\n",
       "        vertical-align: top;\n",
       "    }\n",
       "\n",
       "    .dataframe thead th {\n",
       "        text-align: right;\n",
       "    }\n",
       "</style>\n",
       "<table border=\"1\" class=\"dataframe\">\n",
       "  <thead>\n",
       "    <tr style=\"text-align: right;\">\n",
       "      <th></th>\n",
       "      <th>Title</th>\n",
       "      <th>description</th>\n",
       "      <th>authors</th>\n",
       "      <th>image</th>\n",
       "      <th>previewLink</th>\n",
       "      <th>publisher</th>\n",
       "      <th>publishedDate</th>\n",
       "      <th>infoLink</th>\n",
       "      <th>categories</th>\n",
       "      <th>ratingsCount</th>\n",
       "    </tr>\n",
       "  </thead>\n",
       "  <tbody>\n",
       "    <tr>\n",
       "      <th>0</th>\n",
       "      <td>Its Only Art If Its Well Hung!</td>\n",
       "      <td>NaN</td>\n",
       "      <td>['Julie Strain']</td>\n",
       "      <td>http://books.google.com/books/content?id=DykPA...</td>\n",
       "      <td>http://books.google.nl/books?id=DykPAAAACAAJ&amp;d...</td>\n",
       "      <td>NaN</td>\n",
       "      <td>1996</td>\n",
       "      <td>http://books.google.nl/books?id=DykPAAAACAAJ&amp;d...</td>\n",
       "      <td>['Comics &amp; Graphic Novels']</td>\n",
       "      <td>NaN</td>\n",
       "    </tr>\n",
       "    <tr>\n",
       "      <th>1</th>\n",
       "      <td>Dr. Seuss: American Icon</td>\n",
       "      <td>Philip Nel takes a fascinating look into the k...</td>\n",
       "      <td>['Philip Nel']</td>\n",
       "      <td>http://books.google.com/books/content?id=IjvHQ...</td>\n",
       "      <td>http://books.google.nl/books?id=IjvHQsCn_pgC&amp;p...</td>\n",
       "      <td>A&amp;C Black</td>\n",
       "      <td>1/1/2005</td>\n",
       "      <td>http://books.google.nl/books?id=IjvHQsCn_pgC&amp;d...</td>\n",
       "      <td>['Biography &amp; Autobiography']</td>\n",
       "      <td>NaN</td>\n",
       "    </tr>\n",
       "    <tr>\n",
       "      <th>2</th>\n",
       "      <td>Wonderful Worship in Smaller Churches</td>\n",
       "      <td>This resource includes twelve principles in un...</td>\n",
       "      <td>['David R. Ray']</td>\n",
       "      <td>http://books.google.com/books/content?id=2tsDA...</td>\n",
       "      <td>http://books.google.nl/books?id=2tsDAAAACAAJ&amp;d...</td>\n",
       "      <td>NaN</td>\n",
       "      <td>2000</td>\n",
       "      <td>http://books.google.nl/books?id=2tsDAAAACAAJ&amp;d...</td>\n",
       "      <td>['Religion']</td>\n",
       "      <td>NaN</td>\n",
       "    </tr>\n",
       "    <tr>\n",
       "      <th>3</th>\n",
       "      <td>Whispers of the Wicked Saints</td>\n",
       "      <td>Julia Thomas finds her life spinning out of co...</td>\n",
       "      <td>['Veronica Haddon']</td>\n",
       "      <td>http://books.google.com/books/content?id=aRSIg...</td>\n",
       "      <td>http://books.google.nl/books?id=aRSIgJlq6JwC&amp;d...</td>\n",
       "      <td>iUniverse</td>\n",
       "      <td>2005-02</td>\n",
       "      <td>http://books.google.nl/books?id=aRSIgJlq6JwC&amp;d...</td>\n",
       "      <td>['Fiction']</td>\n",
       "      <td>NaN</td>\n",
       "    </tr>\n",
       "    <tr>\n",
       "      <th>4</th>\n",
       "      <td>Nation Dance: Religion, Identity and Cultural ...</td>\n",
       "      <td>NaN</td>\n",
       "      <td>['Edward Long']</td>\n",
       "      <td>NaN</td>\n",
       "      <td>http://books.google.nl/books?id=399SPgAACAAJ&amp;d...</td>\n",
       "      <td>NaN</td>\n",
       "      <td>3/1/2003</td>\n",
       "      <td>http://books.google.nl/books?id=399SPgAACAAJ&amp;d...</td>\n",
       "      <td>NaN</td>\n",
       "      <td>NaN</td>\n",
       "    </tr>\n",
       "  </tbody>\n",
       "</table>\n",
       "</div>"
      ],
      "text/plain": [
       "                                               Title  \\\n",
       "0                     Its Only Art If Its Well Hung!   \n",
       "1                           Dr. Seuss: American Icon   \n",
       "2              Wonderful Worship in Smaller Churches   \n",
       "3                      Whispers of the Wicked Saints   \n",
       "4  Nation Dance: Religion, Identity and Cultural ...   \n",
       "\n",
       "                                         description              authors  \\\n",
       "0                                                NaN     ['Julie Strain']   \n",
       "1  Philip Nel takes a fascinating look into the k...       ['Philip Nel']   \n",
       "2  This resource includes twelve principles in un...     ['David R. Ray']   \n",
       "3  Julia Thomas finds her life spinning out of co...  ['Veronica Haddon']   \n",
       "4                                                NaN      ['Edward Long']   \n",
       "\n",
       "                                               image  \\\n",
       "0  http://books.google.com/books/content?id=DykPA...   \n",
       "1  http://books.google.com/books/content?id=IjvHQ...   \n",
       "2  http://books.google.com/books/content?id=2tsDA...   \n",
       "3  http://books.google.com/books/content?id=aRSIg...   \n",
       "4                                                NaN   \n",
       "\n",
       "                                         previewLink  publisher publishedDate  \\\n",
       "0  http://books.google.nl/books?id=DykPAAAACAAJ&d...        NaN          1996   \n",
       "1  http://books.google.nl/books?id=IjvHQsCn_pgC&p...  A&C Black      1/1/2005   \n",
       "2  http://books.google.nl/books?id=2tsDAAAACAAJ&d...        NaN          2000   \n",
       "3  http://books.google.nl/books?id=aRSIgJlq6JwC&d...  iUniverse       2005-02   \n",
       "4  http://books.google.nl/books?id=399SPgAACAAJ&d...        NaN      3/1/2003   \n",
       "\n",
       "                                            infoLink  \\\n",
       "0  http://books.google.nl/books?id=DykPAAAACAAJ&d...   \n",
       "1  http://books.google.nl/books?id=IjvHQsCn_pgC&d...   \n",
       "2  http://books.google.nl/books?id=2tsDAAAACAAJ&d...   \n",
       "3  http://books.google.nl/books?id=aRSIgJlq6JwC&d...   \n",
       "4  http://books.google.nl/books?id=399SPgAACAAJ&d...   \n",
       "\n",
       "                      categories  ratingsCount  \n",
       "0    ['Comics & Graphic Novels']           NaN  \n",
       "1  ['Biography & Autobiography']           NaN  \n",
       "2                   ['Religion']           NaN  \n",
       "3                    ['Fiction']           NaN  \n",
       "4                            NaN           NaN  "
      ]
     },
     "execution_count": 4,
     "metadata": {},
     "output_type": "execute_result"
    }
   ],
   "source": [
    "df_books.head()"
   ]
  },
  {
   "cell_type": "code",
   "execution_count": 5,
   "id": "162e4628",
   "metadata": {},
   "outputs": [
    {
     "data": {
      "text/html": [
       "<div>\n",
       "<style scoped>\n",
       "    .dataframe tbody tr th:only-of-type {\n",
       "        vertical-align: middle;\n",
       "    }\n",
       "\n",
       "    .dataframe tbody tr th {\n",
       "        vertical-align: top;\n",
       "    }\n",
       "\n",
       "    .dataframe thead th {\n",
       "        text-align: right;\n",
       "    }\n",
       "</style>\n",
       "<table border=\"1\" class=\"dataframe\">\n",
       "  <thead>\n",
       "    <tr style=\"text-align: right;\">\n",
       "      <th></th>\n",
       "      <th>Id</th>\n",
       "      <th>Title</th>\n",
       "      <th>Price</th>\n",
       "      <th>User_id</th>\n",
       "      <th>profileName</th>\n",
       "      <th>review/helpfulness</th>\n",
       "      <th>review/score</th>\n",
       "      <th>review/time</th>\n",
       "      <th>review/summary</th>\n",
       "      <th>review/text</th>\n",
       "    </tr>\n",
       "  </thead>\n",
       "  <tbody>\n",
       "    <tr>\n",
       "      <th>0</th>\n",
       "      <td>1882931173</td>\n",
       "      <td>Its Only Art If Its Well Hung!</td>\n",
       "      <td>NaN</td>\n",
       "      <td>AVCGYZL8FQQTD</td>\n",
       "      <td>Jim of Oz \"jim-of-oz\"</td>\n",
       "      <td>7/7</td>\n",
       "      <td>4.0</td>\n",
       "      <td>940636800</td>\n",
       "      <td>Nice collection of Julie Strain images</td>\n",
       "      <td>This is only for Julie Strain fans. It's a col...</td>\n",
       "    </tr>\n",
       "    <tr>\n",
       "      <th>1</th>\n",
       "      <td>0826414346</td>\n",
       "      <td>Dr. Seuss: American Icon</td>\n",
       "      <td>NaN</td>\n",
       "      <td>A30TK6U7DNS82R</td>\n",
       "      <td>Kevin Killian</td>\n",
       "      <td>10/10</td>\n",
       "      <td>5.0</td>\n",
       "      <td>1095724800</td>\n",
       "      <td>Really Enjoyed It</td>\n",
       "      <td>I don't care much for Dr. Seuss but after read...</td>\n",
       "    </tr>\n",
       "    <tr>\n",
       "      <th>2</th>\n",
       "      <td>0826414346</td>\n",
       "      <td>Dr. Seuss: American Icon</td>\n",
       "      <td>NaN</td>\n",
       "      <td>A3UH4UZ4RSVO82</td>\n",
       "      <td>John Granger</td>\n",
       "      <td>10/11</td>\n",
       "      <td>5.0</td>\n",
       "      <td>1078790400</td>\n",
       "      <td>Essential for every personal and Public Library</td>\n",
       "      <td>If people become the books they read and if \"t...</td>\n",
       "    </tr>\n",
       "    <tr>\n",
       "      <th>3</th>\n",
       "      <td>0826414346</td>\n",
       "      <td>Dr. Seuss: American Icon</td>\n",
       "      <td>NaN</td>\n",
       "      <td>A2MVUWT453QH61</td>\n",
       "      <td>Roy E. Perry \"amateur philosopher\"</td>\n",
       "      <td>7/7</td>\n",
       "      <td>4.0</td>\n",
       "      <td>1090713600</td>\n",
       "      <td>Phlip Nel gives silly Seuss a serious treatment</td>\n",
       "      <td>Theodore Seuss Geisel (1904-1991), aka &amp;quot;D...</td>\n",
       "    </tr>\n",
       "    <tr>\n",
       "      <th>4</th>\n",
       "      <td>0826414346</td>\n",
       "      <td>Dr. Seuss: American Icon</td>\n",
       "      <td>NaN</td>\n",
       "      <td>A22X4XUPKF66MR</td>\n",
       "      <td>D. H. Richards \"ninthwavestore\"</td>\n",
       "      <td>3/3</td>\n",
       "      <td>4.0</td>\n",
       "      <td>1107993600</td>\n",
       "      <td>Good academic overview</td>\n",
       "      <td>Philip Nel - Dr. Seuss: American IconThis is b...</td>\n",
       "    </tr>\n",
       "  </tbody>\n",
       "</table>\n",
       "</div>"
      ],
      "text/plain": [
       "           Id                           Title  Price         User_id  \\\n",
       "0  1882931173  Its Only Art If Its Well Hung!    NaN   AVCGYZL8FQQTD   \n",
       "1  0826414346        Dr. Seuss: American Icon    NaN  A30TK6U7DNS82R   \n",
       "2  0826414346        Dr. Seuss: American Icon    NaN  A3UH4UZ4RSVO82   \n",
       "3  0826414346        Dr. Seuss: American Icon    NaN  A2MVUWT453QH61   \n",
       "4  0826414346        Dr. Seuss: American Icon    NaN  A22X4XUPKF66MR   \n",
       "\n",
       "                          profileName review/helpfulness  review/score  \\\n",
       "0               Jim of Oz \"jim-of-oz\"                7/7           4.0   \n",
       "1                       Kevin Killian              10/10           5.0   \n",
       "2                        John Granger              10/11           5.0   \n",
       "3  Roy E. Perry \"amateur philosopher\"                7/7           4.0   \n",
       "4     D. H. Richards \"ninthwavestore\"                3/3           4.0   \n",
       "\n",
       "   review/time                                   review/summary  \\\n",
       "0    940636800           Nice collection of Julie Strain images   \n",
       "1   1095724800                                Really Enjoyed It   \n",
       "2   1078790400  Essential for every personal and Public Library   \n",
       "3   1090713600  Phlip Nel gives silly Seuss a serious treatment   \n",
       "4   1107993600                           Good academic overview   \n",
       "\n",
       "                                         review/text  \n",
       "0  This is only for Julie Strain fans. It's a col...  \n",
       "1  I don't care much for Dr. Seuss but after read...  \n",
       "2  If people become the books they read and if \"t...  \n",
       "3  Theodore Seuss Geisel (1904-1991), aka &quot;D...  \n",
       "4  Philip Nel - Dr. Seuss: American IconThis is b...  "
      ]
     },
     "execution_count": 5,
     "metadata": {},
     "output_type": "execute_result"
    }
   ],
   "source": [
    "df_rating.head()"
   ]
  },
  {
   "cell_type": "code",
   "execution_count": 6,
   "id": "e86cdf1f",
   "metadata": {},
   "outputs": [],
   "source": [
    "books_data = pd.merge(df_books,df_rating)"
   ]
  },
  {
   "cell_type": "code",
   "execution_count": 7,
   "id": "8692980a",
   "metadata": {},
   "outputs": [
    {
     "name": "stdout",
     "output_type": "stream",
     "text": [
      "<class 'pandas.core.frame.DataFrame'>\n",
      "Int64Index: 2999778 entries, 0 to 2999777\n",
      "Data columns (total 19 columns):\n",
      " #   Column              Dtype  \n",
      "---  ------              -----  \n",
      " 0   Title               object \n",
      " 1   description         object \n",
      " 2   authors             object \n",
      " 3   image               object \n",
      " 4   previewLink         object \n",
      " 5   publisher           object \n",
      " 6   publishedDate       object \n",
      " 7   infoLink            object \n",
      " 8   categories          object \n",
      " 9   ratingsCount        float64\n",
      " 10  Id                  object \n",
      " 11  Price               float64\n",
      " 12  User_id             object \n",
      " 13  profileName         object \n",
      " 14  review/helpfulness  object \n",
      " 15  review/score        float64\n",
      " 16  review/time         int64  \n",
      " 17  review/summary      object \n",
      " 18  review/text         object \n",
      "dtypes: float64(3), int64(1), object(15)\n",
      "memory usage: 457.7+ MB\n"
     ]
    }
   ],
   "source": [
    "books_data.info()"
   ]
  },
  {
   "cell_type": "code",
   "execution_count": 8,
   "id": "86eb0447",
   "metadata": {},
   "outputs": [
    {
     "data": {
      "text/html": [
       "<div>\n",
       "<style scoped>\n",
       "    .dataframe tbody tr th:only-of-type {\n",
       "        vertical-align: middle;\n",
       "    }\n",
       "\n",
       "    .dataframe tbody tr th {\n",
       "        vertical-align: top;\n",
       "    }\n",
       "\n",
       "    .dataframe thead th {\n",
       "        text-align: right;\n",
       "    }\n",
       "</style>\n",
       "<table border=\"1\" class=\"dataframe\">\n",
       "  <thead>\n",
       "    <tr style=\"text-align: right;\">\n",
       "      <th></th>\n",
       "      <th>ratingsCount</th>\n",
       "      <th>Price</th>\n",
       "      <th>review/score</th>\n",
       "      <th>review/time</th>\n",
       "    </tr>\n",
       "  </thead>\n",
       "  <tbody>\n",
       "    <tr>\n",
       "      <th>count</th>\n",
       "      <td>1.639140e+06</td>\n",
       "      <td>481169.000000</td>\n",
       "      <td>2.999778e+06</td>\n",
       "      <td>2.999778e+06</td>\n",
       "    </tr>\n",
       "    <tr>\n",
       "      <th>mean</th>\n",
       "      <td>2.720916e+02</td>\n",
       "      <td>21.762676</td>\n",
       "      <td>4.215318e+00</td>\n",
       "      <td>1.132311e+09</td>\n",
       "    </tr>\n",
       "    <tr>\n",
       "      <th>std</th>\n",
       "      <td>7.888075e+02</td>\n",
       "      <td>26.206593</td>\n",
       "      <td>1.203030e+00</td>\n",
       "      <td>1.493226e+08</td>\n",
       "    </tr>\n",
       "    <tr>\n",
       "      <th>min</th>\n",
       "      <td>1.000000e+00</td>\n",
       "      <td>1.000000</td>\n",
       "      <td>1.000000e+00</td>\n",
       "      <td>-1.000000e+00</td>\n",
       "    </tr>\n",
       "    <tr>\n",
       "      <th>25%</th>\n",
       "      <td>3.000000e+00</td>\n",
       "      <td>10.780000</td>\n",
       "      <td>4.000000e+00</td>\n",
       "      <td>9.999072e+08</td>\n",
       "    </tr>\n",
       "    <tr>\n",
       "      <th>50%</th>\n",
       "      <td>1.000000e+01</td>\n",
       "      <td>14.930000</td>\n",
       "      <td>5.000000e+00</td>\n",
       "      <td>1.128298e+09</td>\n",
       "    </tr>\n",
       "    <tr>\n",
       "      <th>75%</th>\n",
       "      <td>5.500000e+01</td>\n",
       "      <td>23.950000</td>\n",
       "      <td>5.000000e+00</td>\n",
       "      <td>1.269130e+09</td>\n",
       "    </tr>\n",
       "    <tr>\n",
       "      <th>max</th>\n",
       "      <td>4.895000e+03</td>\n",
       "      <td>995.000000</td>\n",
       "      <td>5.000000e+00</td>\n",
       "      <td>1.362355e+09</td>\n",
       "    </tr>\n",
       "  </tbody>\n",
       "</table>\n",
       "</div>"
      ],
      "text/plain": [
       "       ratingsCount          Price  review/score   review/time\n",
       "count  1.639140e+06  481169.000000  2.999778e+06  2.999778e+06\n",
       "mean   2.720916e+02      21.762676  4.215318e+00  1.132311e+09\n",
       "std    7.888075e+02      26.206593  1.203030e+00  1.493226e+08\n",
       "min    1.000000e+00       1.000000  1.000000e+00 -1.000000e+00\n",
       "25%    3.000000e+00      10.780000  4.000000e+00  9.999072e+08\n",
       "50%    1.000000e+01      14.930000  5.000000e+00  1.128298e+09\n",
       "75%    5.500000e+01      23.950000  5.000000e+00  1.269130e+09\n",
       "max    4.895000e+03     995.000000  5.000000e+00  1.362355e+09"
      ]
     },
     "execution_count": 8,
     "metadata": {},
     "output_type": "execute_result"
    }
   ],
   "source": [
    "books_data.describe()"
   ]
  },
  {
   "cell_type": "code",
   "execution_count": 9,
   "id": "7dc696c7",
   "metadata": {},
   "outputs": [],
   "source": [
    "#Drop Rows with missing values \n",
    "books_data=books_data.dropna()"
   ]
  },
  {
   "cell_type": "code",
   "execution_count": 10,
   "id": "68bf231b",
   "metadata": {},
   "outputs": [
    {
     "data": {
      "text/plain": [
       "(17430, 19)"
      ]
     },
     "execution_count": 10,
     "metadata": {},
     "output_type": "execute_result"
    }
   ],
   "source": [
    "#Since Dataset is huge , Sampling dataset with 4% data\n",
    "books_data_sample = books_data.sample(frac=.1,random_state=1)\n",
    "books_data_sample.shape"
   ]
  },
  {
   "cell_type": "code",
   "execution_count": 11,
   "id": "ef44a295",
   "metadata": {},
   "outputs": [
    {
     "data": {
      "text/html": [
       "<div>\n",
       "<style scoped>\n",
       "    .dataframe tbody tr th:only-of-type {\n",
       "        vertical-align: middle;\n",
       "    }\n",
       "\n",
       "    .dataframe tbody tr th {\n",
       "        vertical-align: top;\n",
       "    }\n",
       "\n",
       "    .dataframe thead th {\n",
       "        text-align: right;\n",
       "    }\n",
       "</style>\n",
       "<table border=\"1\" class=\"dataframe\">\n",
       "  <thead>\n",
       "    <tr style=\"text-align: right;\">\n",
       "      <th></th>\n",
       "      <th>Title</th>\n",
       "      <th>description</th>\n",
       "      <th>authors</th>\n",
       "      <th>image</th>\n",
       "      <th>previewLink</th>\n",
       "      <th>publisher</th>\n",
       "      <th>publishedDate</th>\n",
       "      <th>infoLink</th>\n",
       "      <th>categories</th>\n",
       "      <th>ratingsCount</th>\n",
       "      <th>Id</th>\n",
       "      <th>Price</th>\n",
       "      <th>User_id</th>\n",
       "      <th>profileName</th>\n",
       "      <th>review/helpfulness</th>\n",
       "      <th>review/score</th>\n",
       "      <th>review/time</th>\n",
       "      <th>review/summary</th>\n",
       "      <th>review/text</th>\n",
       "    </tr>\n",
       "  </thead>\n",
       "  <tbody>\n",
       "    <tr>\n",
       "      <th>638858</th>\n",
       "      <td>Candide</td>\n",
       "      <td>From the landscapes of El Dorado to Constantin...</td>\n",
       "      <td>['Voltaire']</td>\n",
       "      <td>http://books.google.com/books/content?id=45_au...</td>\n",
       "      <td>http://books.google.com/books?id=45_auwqrT9kC&amp;...</td>\n",
       "      <td>ReadHowYouWant.com</td>\n",
       "      <td>2006</td>\n",
       "      <td>https://play.google.com/store/books/details?id...</td>\n",
       "      <td>['Fiction']</td>\n",
       "      <td>2687.0</td>\n",
       "      <td>0939495600</td>\n",
       "      <td>25.00</td>\n",
       "      <td>A1U8DHSI18EEJ1</td>\n",
       "      <td>Richard E. Noble</td>\n",
       "      <td>1/2</td>\n",
       "      <td>5.0</td>\n",
       "      <td>1266364800</td>\n",
       "      <td>The Hobo Philosopher</td>\n",
       "      <td>Voltare worte this play in response to Leibniz...</td>\n",
       "    </tr>\n",
       "    <tr>\n",
       "      <th>1964867</th>\n",
       "      <td>The Art of Intrusion: The Real Stories Behind ...</td>\n",
       "      <td>Hacker extraordinaire Kevin Mitnick delivers t...</td>\n",
       "      <td>['Kevin D. Mitnick', 'William L. Simon']</td>\n",
       "      <td>http://books.google.com/books/content?id=12_GL...</td>\n",
       "      <td>http://books.google.nl/books?id=12_GLOhw5oEC&amp;p...</td>\n",
       "      <td>John Wiley &amp; Sons</td>\n",
       "      <td>3/17/2009</td>\n",
       "      <td>https://play.google.com/store/books/details?id...</td>\n",
       "      <td>['Computers']</td>\n",
       "      <td>12.0</td>\n",
       "      <td>B000MV89V4</td>\n",
       "      <td>3.39</td>\n",
       "      <td>AVISOVCTFJG29</td>\n",
       "      <td>Alejandro Odreman</td>\n",
       "      <td>0/2</td>\n",
       "      <td>5.0</td>\n",
       "      <td>1215043200</td>\n",
       "      <td>It's just excellent</td>\n",
       "      <td>Adequate for noobs and pros to understand how ...</td>\n",
       "    </tr>\n",
       "    <tr>\n",
       "      <th>512696</th>\n",
       "      <td>To Trust a Stranger</td>\n",
       "      <td>Karen Robards once again electrifes the page w...</td>\n",
       "      <td>['Karen Robards']</td>\n",
       "      <td>http://books.google.com/books/content?id=AAfMi...</td>\n",
       "      <td>http://books.google.com/books?id=AAfMi3YTq90C&amp;...</td>\n",
       "      <td>Simon and Schuster</td>\n",
       "      <td>2/5/2002</td>\n",
       "      <td>https://play.google.com/store/books/details?id...</td>\n",
       "      <td>['Fiction']</td>\n",
       "      <td>2.0</td>\n",
       "      <td>0743466284</td>\n",
       "      <td>31.95</td>\n",
       "      <td>A3MUDAYXE0ANVM</td>\n",
       "      <td>Christy T. French \"author\"</td>\n",
       "      <td>1/2</td>\n",
       "      <td>5.0</td>\n",
       "      <td>1009411200</td>\n",
       "      <td>A Real Sizzler!</td>\n",
       "      <td>I have to say it - Wow! First book I read by M...</td>\n",
       "    </tr>\n",
       "    <tr>\n",
       "      <th>1817502</th>\n",
       "      <td>Journalistic Fraud: How The New York Times Dis...</td>\n",
       "      <td>For over a hundred years, the New York Times h...</td>\n",
       "      <td>['Bob Kohn']</td>\n",
       "      <td>http://books.google.com/books/content?id=1zHhs...</td>\n",
       "      <td>http://books.google.nl/books?id=1zHhsTPrN6sC&amp;p...</td>\n",
       "      <td>Thomas Nelson Inc</td>\n",
       "      <td>8/14/2003</td>\n",
       "      <td>http://books.google.nl/books?id=1zHhsTPrN6sC&amp;d...</td>\n",
       "      <td>['Political Science']</td>\n",
       "      <td>1.0</td>\n",
       "      <td>B000685KVK</td>\n",
       "      <td>10.40</td>\n",
       "      <td>A1PIQ3KQZ3BQFS</td>\n",
       "      <td>John Mashey</td>\n",
       "      <td>33/36</td>\n",
       "      <td>4.0</td>\n",
       "      <td>1065398400</td>\n",
       "      <td>Another inoculation against media distortion</td>\n",
       "      <td>Kohn describes well-known techniques of unobje...</td>\n",
       "    </tr>\n",
       "    <tr>\n",
       "      <th>796809</th>\n",
       "      <td>A Lesson Before Dying (Library Edition Audio C...</td>\n",
       "      <td>NATIONAL BOOK CRITICS CIRCLE AWARD WINNER • A ...</td>\n",
       "      <td>['Ernest J. Gaines']</td>\n",
       "      <td>http://books.google.com/books/content?id=cV-gT...</td>\n",
       "      <td>http://books.google.com/books?id=cV-gTPZVm8wC&amp;...</td>\n",
       "      <td>Vintage</td>\n",
       "      <td>1/20/2004</td>\n",
       "      <td>https://play.google.com/store/books/details?id...</td>\n",
       "      <td>['Fiction']</td>\n",
       "      <td>24.0</td>\n",
       "      <td>1580812287</td>\n",
       "      <td>25.95</td>\n",
       "      <td>A39U6ANNVLPJTF</td>\n",
       "      <td>\"lookalike\"</td>\n",
       "      <td>2/3</td>\n",
       "      <td>4.0</td>\n",
       "      <td>974160000</td>\n",
       "      <td>I understand what Oprah saw in this book.</td>\n",
       "      <td>This book has so many good aspects to it. It d...</td>\n",
       "    </tr>\n",
       "  </tbody>\n",
       "</table>\n",
       "</div>"
      ],
      "text/plain": [
       "                                                     Title  \\\n",
       "638858                                             Candide   \n",
       "1964867  The Art of Intrusion: The Real Stories Behind ...   \n",
       "512696                                 To Trust a Stranger   \n",
       "1817502  Journalistic Fraud: How The New York Times Dis...   \n",
       "796809   A Lesson Before Dying (Library Edition Audio C...   \n",
       "\n",
       "                                               description  \\\n",
       "638858   From the landscapes of El Dorado to Constantin...   \n",
       "1964867  Hacker extraordinaire Kevin Mitnick delivers t...   \n",
       "512696   Karen Robards once again electrifes the page w...   \n",
       "1817502  For over a hundred years, the New York Times h...   \n",
       "796809   NATIONAL BOOK CRITICS CIRCLE AWARD WINNER • A ...   \n",
       "\n",
       "                                          authors  \\\n",
       "638858                               ['Voltaire']   \n",
       "1964867  ['Kevin D. Mitnick', 'William L. Simon']   \n",
       "512696                          ['Karen Robards']   \n",
       "1817502                              ['Bob Kohn']   \n",
       "796809                       ['Ernest J. Gaines']   \n",
       "\n",
       "                                                     image  \\\n",
       "638858   http://books.google.com/books/content?id=45_au...   \n",
       "1964867  http://books.google.com/books/content?id=12_GL...   \n",
       "512696   http://books.google.com/books/content?id=AAfMi...   \n",
       "1817502  http://books.google.com/books/content?id=1zHhs...   \n",
       "796809   http://books.google.com/books/content?id=cV-gT...   \n",
       "\n",
       "                                               previewLink  \\\n",
       "638858   http://books.google.com/books?id=45_auwqrT9kC&...   \n",
       "1964867  http://books.google.nl/books?id=12_GLOhw5oEC&p...   \n",
       "512696   http://books.google.com/books?id=AAfMi3YTq90C&...   \n",
       "1817502  http://books.google.nl/books?id=1zHhsTPrN6sC&p...   \n",
       "796809   http://books.google.com/books?id=cV-gTPZVm8wC&...   \n",
       "\n",
       "                  publisher publishedDate  \\\n",
       "638858   ReadHowYouWant.com          2006   \n",
       "1964867   John Wiley & Sons     3/17/2009   \n",
       "512696   Simon and Schuster      2/5/2002   \n",
       "1817502   Thomas Nelson Inc     8/14/2003   \n",
       "796809              Vintage     1/20/2004   \n",
       "\n",
       "                                                  infoLink  \\\n",
       "638858   https://play.google.com/store/books/details?id...   \n",
       "1964867  https://play.google.com/store/books/details?id...   \n",
       "512696   https://play.google.com/store/books/details?id...   \n",
       "1817502  http://books.google.nl/books?id=1zHhsTPrN6sC&d...   \n",
       "796809   https://play.google.com/store/books/details?id...   \n",
       "\n",
       "                    categories  ratingsCount          Id  Price  \\\n",
       "638858             ['Fiction']        2687.0  0939495600  25.00   \n",
       "1964867          ['Computers']          12.0  B000MV89V4   3.39   \n",
       "512696             ['Fiction']           2.0  0743466284  31.95   \n",
       "1817502  ['Political Science']           1.0  B000685KVK  10.40   \n",
       "796809             ['Fiction']          24.0  1580812287  25.95   \n",
       "\n",
       "                User_id                 profileName review/helpfulness  \\\n",
       "638858   A1U8DHSI18EEJ1            Richard E. Noble                1/2   \n",
       "1964867   AVISOVCTFJG29           Alejandro Odreman                0/2   \n",
       "512696   A3MUDAYXE0ANVM  Christy T. French \"author\"                1/2   \n",
       "1817502  A1PIQ3KQZ3BQFS                 John Mashey              33/36   \n",
       "796809   A39U6ANNVLPJTF                 \"lookalike\"                2/3   \n",
       "\n",
       "         review/score  review/time  \\\n",
       "638858            5.0   1266364800   \n",
       "1964867           5.0   1215043200   \n",
       "512696            5.0   1009411200   \n",
       "1817502           4.0   1065398400   \n",
       "796809            4.0    974160000   \n",
       "\n",
       "                                       review/summary  \\\n",
       "638858                           The Hobo Philosopher   \n",
       "1964867                           It's just excellent   \n",
       "512696                                A Real Sizzler!   \n",
       "1817502  Another inoculation against media distortion   \n",
       "796809      I understand what Oprah saw in this book.   \n",
       "\n",
       "                                               review/text  \n",
       "638858   Voltare worte this play in response to Leibniz...  \n",
       "1964867  Adequate for noobs and pros to understand how ...  \n",
       "512696   I have to say it - Wow! First book I read by M...  \n",
       "1817502  Kohn describes well-known techniques of unobje...  \n",
       "796809   This book has so many good aspects to it. It d...  "
      ]
     },
     "execution_count": 11,
     "metadata": {},
     "output_type": "execute_result"
    }
   ],
   "source": [
    "books_data_sample.head()"
   ]
  },
  {
   "cell_type": "code",
   "execution_count": 12,
   "id": "c4f78936",
   "metadata": {},
   "outputs": [
    {
     "data": {
      "text/html": [
       "<div>\n",
       "<style scoped>\n",
       "    .dataframe tbody tr th:only-of-type {\n",
       "        vertical-align: middle;\n",
       "    }\n",
       "\n",
       "    .dataframe tbody tr th {\n",
       "        vertical-align: top;\n",
       "    }\n",
       "\n",
       "    .dataframe thead th {\n",
       "        text-align: right;\n",
       "    }\n",
       "</style>\n",
       "<table border=\"1\" class=\"dataframe\">\n",
       "  <thead>\n",
       "    <tr style=\"text-align: right;\">\n",
       "      <th></th>\n",
       "      <th>review/score</th>\n",
       "    </tr>\n",
       "    <tr>\n",
       "      <th>Title</th>\n",
       "      <th></th>\n",
       "    </tr>\n",
       "  </thead>\n",
       "  <tbody>\n",
       "    <tr>\n",
       "      <th>\"Forget Not Love\": The Passion of Maximilian Kolbe</th>\n",
       "      <td>5.0</td>\n",
       "    </tr>\n",
       "    <tr>\n",
       "      <th>\"Happiness Is Not My Companion\": The Life of General G. K. Warren</th>\n",
       "      <td>5.0</td>\n",
       "    </tr>\n",
       "    <tr>\n",
       "      <th>\"Mom, Dad . . . I'm Pregnant\": When Your Daughter or Son Faces an Unplanned Pregnancy (TH1NK LifeChange)</th>\n",
       "      <td>5.0</td>\n",
       "    </tr>\n",
       "    <tr>\n",
       "      <th>\"Mom, I Hate My Life!\": Becoming Your Daughter's Ally Through the Emotional Ups and Downs of Adolescence (A Hand-in-Hand Book)</th>\n",
       "      <td>3.0</td>\n",
       "    </tr>\n",
       "    <tr>\n",
       "      <th>\"The Super Short, Amazing Story of David &amp; Goliath\"</th>\n",
       "      <td>5.0</td>\n",
       "    </tr>\n",
       "    <tr>\n",
       "      <th>...</th>\n",
       "      <td>...</td>\n",
       "    </tr>\n",
       "    <tr>\n",
       "      <th>Zondervan's Compact Bible Dictionary</th>\n",
       "      <td>5.0</td>\n",
       "    </tr>\n",
       "    <tr>\n",
       "      <th>Zoo - ology</th>\n",
       "      <td>5.0</td>\n",
       "    </tr>\n",
       "    <tr>\n",
       "      <th>bills open kitchen</th>\n",
       "      <td>4.0</td>\n",
       "    </tr>\n",
       "    <tr>\n",
       "      <th>comeback - a mother and daughter's journey through hell and back</th>\n",
       "      <td>4.4</td>\n",
       "    </tr>\n",
       "    <tr>\n",
       "      <th>sendmail Desktop Reference (Pocket Reference)</th>\n",
       "      <td>5.0</td>\n",
       "    </tr>\n",
       "  </tbody>\n",
       "</table>\n",
       "<p>5194 rows × 1 columns</p>\n",
       "</div>"
      ],
      "text/plain": [
       "                                                    review/score\n",
       "Title                                                           \n",
       "\"Forget Not Love\": The Passion of Maximilian Kolbe           5.0\n",
       "\"Happiness Is Not My Companion\": The Life of Ge...           5.0\n",
       "\"Mom, Dad . . . I'm Pregnant\": When Your Daught...           5.0\n",
       "\"Mom, I Hate My Life!\": Becoming Your Daughter'...           3.0\n",
       "\"The Super Short, Amazing Story of David & Goli...           5.0\n",
       "...                                                          ...\n",
       "Zondervan's Compact Bible Dictionary                         5.0\n",
       "Zoo - ology                                                  5.0\n",
       "bills open kitchen                                           4.0\n",
       "comeback - a mother and daughter's journey thro...           4.4\n",
       "sendmail Desktop Reference (Pocket Reference)                5.0\n",
       "\n",
       "[5194 rows x 1 columns]"
      ]
     },
     "execution_count": 12,
     "metadata": {},
     "output_type": "execute_result"
    }
   ],
   "source": [
    "books_data_pivoted = books_data_sample.pivot_table(index='Title',values='review/score', aggfunc='mean').fillna(0)\n",
    "books_data_pivoted\n"
   ]
  },
  {
   "cell_type": "code",
   "execution_count": 13,
   "id": "aa23566d",
   "metadata": {},
   "outputs": [
    {
     "data": {
      "text/html": [
       "<div>\n",
       "<style scoped>\n",
       "    .dataframe tbody tr th:only-of-type {\n",
       "        vertical-align: middle;\n",
       "    }\n",
       "\n",
       "    .dataframe tbody tr th {\n",
       "        vertical-align: top;\n",
       "    }\n",
       "\n",
       "    .dataframe thead th {\n",
       "        text-align: right;\n",
       "    }\n",
       "</style>\n",
       "<table border=\"1\" class=\"dataframe\">\n",
       "  <thead>\n",
       "    <tr style=\"text-align: right;\">\n",
       "      <th></th>\n",
       "      <th>review/score</th>\n",
       "    </tr>\n",
       "    <tr>\n",
       "      <th>Title</th>\n",
       "      <th></th>\n",
       "    </tr>\n",
       "  </thead>\n",
       "  <tbody>\n",
       "    <tr>\n",
       "      <th>Hello, It's Me (Warner Forever)</th>\n",
       "      <td>4.000000</td>\n",
       "    </tr>\n",
       "    <tr>\n",
       "      <th>Women and the Genesis of Christianity</th>\n",
       "      <td>5.000000</td>\n",
       "    </tr>\n",
       "    <tr>\n",
       "      <th>The Believer's Authority</th>\n",
       "      <td>4.750000</td>\n",
       "    </tr>\n",
       "    <tr>\n",
       "      <th>Snowblind</th>\n",
       "      <td>4.000000</td>\n",
       "    </tr>\n",
       "    <tr>\n",
       "      <th>The Night Before Thanksgiving (Reading Railroad Books)</th>\n",
       "      <td>4.500000</td>\n",
       "    </tr>\n",
       "    <tr>\n",
       "      <th>...</th>\n",
       "      <td>...</td>\n",
       "    </tr>\n",
       "    <tr>\n",
       "      <th>Baghdad Burning II: More Girl Blog from Iraq (Women Writing the Middle East)</th>\n",
       "      <td>5.000000</td>\n",
       "    </tr>\n",
       "    <tr>\n",
       "      <th>Remote Control</th>\n",
       "      <td>4.714286</td>\n",
       "    </tr>\n",
       "    <tr>\n",
       "      <th>The Case for Easter: Journalist Investigates the Evidence for the Resurrection</th>\n",
       "      <td>4.000000</td>\n",
       "    </tr>\n",
       "    <tr>\n",
       "      <th>bills open kitchen</th>\n",
       "      <td>4.000000</td>\n",
       "    </tr>\n",
       "    <tr>\n",
       "      <th>CliffsNotes on Rand's Anthem</th>\n",
       "      <td>3.000000</td>\n",
       "    </tr>\n",
       "  </tbody>\n",
       "</table>\n",
       "<p>4155 rows × 1 columns</p>\n",
       "</div>"
      ],
      "text/plain": [
       "                                                    review/score\n",
       "Title                                                           \n",
       "Hello, It's Me (Warner Forever)                         4.000000\n",
       "Women and the Genesis of Christianity                   5.000000\n",
       "The Believer's Authority                                4.750000\n",
       "Snowblind                                               4.000000\n",
       "The Night Before Thanksgiving (Reading Railroad...      4.500000\n",
       "...                                                          ...\n",
       "Baghdad Burning II: More Girl Blog from Iraq (W...      5.000000\n",
       "Remote Control                                          4.714286\n",
       "The Case for Easter: Journalist Investigates th...      4.000000\n",
       "bills open kitchen                                      4.000000\n",
       "CliffsNotes on Rand's Anthem                            3.000000\n",
       "\n",
       "[4155 rows x 1 columns]"
      ]
     },
     "execution_count": 13,
     "metadata": {},
     "output_type": "execute_result"
    }
   ],
   "source": [
    "#Split The test and train data 60 train and 40 test\n",
    "books_data_train, books_data_test = train_test_split(books_data_pivoted, test_size=0.2, random_state=42) \n",
    "books_data_train"
   ]
  },
  {
   "cell_type": "code",
   "execution_count": 14,
   "id": "a87c36b8",
   "metadata": {},
   "outputs": [
    {
     "data": {
      "text/html": [
       "<div>\n",
       "<style scoped>\n",
       "    .dataframe tbody tr th:only-of-type {\n",
       "        vertical-align: middle;\n",
       "    }\n",
       "\n",
       "    .dataframe tbody tr th {\n",
       "        vertical-align: top;\n",
       "    }\n",
       "\n",
       "    .dataframe thead th {\n",
       "        text-align: right;\n",
       "    }\n",
       "</style>\n",
       "<table border=\"1\" class=\"dataframe\">\n",
       "  <thead>\n",
       "    <tr style=\"text-align: right;\">\n",
       "      <th></th>\n",
       "      <th>review/score</th>\n",
       "    </tr>\n",
       "    <tr>\n",
       "      <th>Title</th>\n",
       "      <th></th>\n",
       "    </tr>\n",
       "  </thead>\n",
       "  <tbody>\n",
       "    <tr>\n",
       "      <th>Talking In The Dark (Push Poetry)</th>\n",
       "      <td>5.000000</td>\n",
       "    </tr>\n",
       "    <tr>\n",
       "      <th>A Breath of Snow and Ashes (Outlander)</th>\n",
       "      <td>4.245283</td>\n",
       "    </tr>\n",
       "    <tr>\n",
       "      <th>To Trust a Stranger</th>\n",
       "      <td>4.600000</td>\n",
       "    </tr>\n",
       "    <tr>\n",
       "      <th>The Rhyming Season</th>\n",
       "      <td>5.000000</td>\n",
       "    </tr>\n",
       "    <tr>\n",
       "      <th>The New White Nationalism in America: Its Challenge to Integration</th>\n",
       "      <td>4.500000</td>\n",
       "    </tr>\n",
       "    <tr>\n",
       "      <th>...</th>\n",
       "      <td>...</td>\n",
       "    </tr>\n",
       "    <tr>\n",
       "      <th>A Practical Guide to Collecting Civil War</th>\n",
       "      <td>5.000000</td>\n",
       "    </tr>\n",
       "    <tr>\n",
       "      <th>Drawing Landscapes in Pencil (Practical Art Books)</th>\n",
       "      <td>5.000000</td>\n",
       "    </tr>\n",
       "    <tr>\n",
       "      <th>Controversial Essays (HOOVER INST PRESS PUBLICATION)</th>\n",
       "      <td>3.000000</td>\n",
       "    </tr>\n",
       "    <tr>\n",
       "      <th>No Good Deed</th>\n",
       "      <td>4.500000</td>\n",
       "    </tr>\n",
       "    <tr>\n",
       "      <th>23 Minutes In Hell: One Man's Story About What He Saw, Heard, and Felt in that Place of Torment</th>\n",
       "      <td>3.360000</td>\n",
       "    </tr>\n",
       "  </tbody>\n",
       "</table>\n",
       "<p>1039 rows × 1 columns</p>\n",
       "</div>"
      ],
      "text/plain": [
       "                                                    review/score\n",
       "Title                                                           \n",
       "Talking In The Dark (Push Poetry)                       5.000000\n",
       "A Breath of Snow and Ashes (Outlander)                  4.245283\n",
       "To Trust a Stranger                                     4.600000\n",
       "The Rhyming Season                                      5.000000\n",
       "The New White Nationalism in America: Its Chall...      4.500000\n",
       "...                                                          ...\n",
       "A Practical Guide to Collecting Civil War               5.000000\n",
       "Drawing Landscapes in Pencil (Practical Art Books)      5.000000\n",
       "Controversial Essays (HOOVER INST PRESS PUBLICA...      3.000000\n",
       "No Good Deed                                            4.500000\n",
       "23 Minutes In Hell: One Man's Story About What ...      3.360000\n",
       "\n",
       "[1039 rows x 1 columns]"
      ]
     },
     "execution_count": 14,
     "metadata": {},
     "output_type": "execute_result"
    }
   ],
   "source": [
    "books_data_test"
   ]
  },
  {
   "cell_type": "code",
   "execution_count": 15,
   "id": "be9c848d",
   "metadata": {},
   "outputs": [
    {
     "data": {
      "text/plain": [
       "(array([ 104.,   16.,  118.,   45.,   48.,  330.,  226.,  734.,  544.,\n",
       "        1990.]),\n",
       " array([1. , 1.4, 1.8, 2.2, 2.6, 3. , 3.4, 3.8, 4.2, 4.6, 5. ]),\n",
       " <BarContainer object of 10 artists>)"
      ]
     },
     "execution_count": 15,
     "metadata": {},
     "output_type": "execute_result"
    },
    {
     "data": {
      "image/png": "[encoded data removed]",
      "text/plain": [
       "<Figure size 432x288 with 1 Axes>"
      ]
     },
     "metadata": {
      "needs_background": "light"
     },
     "output_type": "display_data"
    }
   ],
   "source": [
    "plt.hist(books_data_train['review/score'].to_numpy())"
   ]
  },
  {
   "cell_type": "code",
   "execution_count": 16,
   "id": "d2de7340",
   "metadata": {},
   "outputs": [
    {
     "data": {
      "text/plain": [
       "NearestNeighbors(algorithm='brute', metric='cosine', n_jobs=-1, n_neighbors=30)"
      ]
     },
     "execution_count": 16,
     "metadata": {},
     "output_type": "execute_result"
    }
   ],
   "source": [
    "#Build NN Model\n",
    "from sklearn.neighbors import NearestNeighbors\n",
    "\n",
    "# Build NearestNeighbors Object\n",
    "model_nn = NearestNeighbors(metric='cosine', algorithm='brute', n_neighbors=30, n_jobs=-1)\n",
    "\n",
    "# Fit the NearestNeighbor\n",
    "model_nn.fit(books_data_train['review/score'].to_numpy().reshape(-1, 1))"
   ]
  },
  {
   "cell_type": "code",
   "execution_count": 17,
   "id": "85b721bc",
   "metadata": {},
   "outputs": [
    {
     "name": "stdout",
     "output_type": "stream",
     "text": [
      "review/score    4.6\n",
      "Name: To Trust a Stranger, dtype: float64\n",
      "[[2768 2767 2773 2772 2771 2770 2769 2775 2764 2763]]\n",
      "Recommended Books:\n",
      "==================\n",
      "1 .  review/score    4.461538\n",
      "Name: Black Cross, dtype: float64\n",
      "2 .  review/score    3.0\n",
      "Name: Dixie Betrayed: How the South Really Lost the Civil War, dtype: float64\n",
      "3 .  review/score    5.0\n",
      "Name: Soul Survival, dtype: float64\n",
      "4 .  review/score    5.0\n",
      "Name: Heartthrob, dtype: float64\n",
      "5 .  review/score    5.0\n",
      "Name: Racso and the Rats of NIMH, dtype: float64\n",
      "6 .  review/score    5.0\n",
      "Name: Chasing the Wind: The Autobiography of Steve Fossett, dtype: float64\n",
      "7 .  review/score    3.571429\n",
      "Name: Crocheting For Dummies (For Dummies (Sports & Hobbies)), dtype: float64\n",
      "8 .  review/score    4.5\n",
      "Name: BITCHfest: Ten Years of Cultural Criticism from the Pages of Bitch Magazine, dtype: float64\n",
      "9 .  review/score    5.0\n",
      "Name: Lost and Found: A Daughter's Tale of Violence and Redemption, dtype: float64\n",
      "10 .  review/score    3.0\n",
      "Name: The Family Trade (Merchant Princes), dtype: float64\n"
     ]
    },
    {
     "name": "stderr",
     "output_type": "stream",
     "text": [
      "D:\\Anaconda\\lib\\site-packages\\sklearn\\base.py:443: UserWarning: X has feature names, but NearestNeighbors was fitted without feature names\n",
      "  warnings.warn(\n"
     ]
    }
   ],
   "source": [
    "# Get top 10 nearest neighbors based on rating or review/score\n",
    "print(books_data_test.iloc[2])\n",
    "indices=model_nn.kneighbors(books_data_test.iloc[[2]], 10, return_distance=False)\n",
    "print(indices)\n",
    "\n",
    "# Print the recommended books\n",
    "print(\"Recommended Books:\")\n",
    "print(\"==================\")\n",
    "for i in range(0, len(indices[0])):\n",
    "    print((i+1),\". \",books_data_train.iloc[indices[0][i]])"
   ]
  },
  {
   "cell_type": "code",
   "execution_count": 18,
   "id": "71577185",
   "metadata": {},
   "outputs": [],
   "source": [
    "kmeans = KMeans(n_clusters=7, random_state=0)\n",
    "cluster_labels = kmeans.fit_predict(books_data_train['review/score'].to_numpy().reshape(-1, 1))"
   ]
  },
  {
   "cell_type": "code",
   "execution_count": 19,
   "id": "aeb10d8d",
   "metadata": {},
   "outputs": [
    {
     "name": "stdout",
     "output_type": "stream",
     "text": [
      "review/score    4.6\n",
      "Name: To Trust a Stranger, dtype: float64\n",
      "Recommended Books:\n",
      "==================\n",
      "1 .  review/score    4.75\n",
      "Name: The Believer's Authority, dtype: float64\n",
      "2 .  review/score    4.5\n",
      "Name: The Night Before Thanksgiving (Reading Railroad Books), dtype: float64\n",
      "3 .  review/score    4.5\n",
      "Name: Agape Leadership, dtype: float64\n",
      "4 .  review/score    4.333333\n",
      "Name: Iceman: Uncovering the Life and Times of a Prehistoric Man Found in an Alpine Glacier, dtype: float64\n",
      "5 .  review/score    4.5\n",
      "Name: Power Mentoring: How Successful Mentors and Proteges Get the Most Out of Their Relationships, dtype: float64\n",
      "6 .  review/score    4.333333\n",
      "Name: When Am I Going to Be Happy?: How to Break the Emotional Bad Habits That Make You Miserable, dtype: float64\n",
      "7 .  review/score    4.333333\n",
      "Name: Invisible Darkness: The Strange Case Of Paul Bernardo and Karla Homolka, dtype: float64\n",
      "8 .  review/score    4.333333\n",
      "Name: Villa and Zapata: A History of the Mexican Revolution, dtype: float64\n",
      "9 .  review/score    4.5\n",
      "Name: The Great Dinosaur Mystery Solved, dtype: float64\n",
      "10 .  review/score    4.666667\n",
      "Name: Loyola Kids Book of Saints, dtype: float64\n"
     ]
    }
   ],
   "source": [
    "print(books_data_test.iloc[2])\n",
    "predictedLabel = kmeans.predict(books_data_test.iloc[2]['review/score'].reshape(-1, 1))\n",
    "predictedLabel[0]\n",
    "predictedBookIndices = np.where(kmeans.labels_ == predictedLabel[0])\n",
    "print(\"Recommended Books:\")\n",
    "print(\"==================\")\n",
    "for i in range(0, 10):\n",
    "    print((i+1),\". \",books_data_train.iloc[predictedBookIndices[0][i]])"
   ]
  },
  {
   "cell_type": "code",
   "execution_count": 20,
   "id": "b141c2b3",
   "metadata": {},
   "outputs": [
    {
     "name": "stdout",
     "output_type": "stream",
     "text": [
      "kMeans: silhouette:  0.8168792741971586 , dunn:  0.3108354698054419 , chs:  63944.163595452344\n"
     ]
    }
   ],
   "source": [
    "from sklearn import metrics\n",
    "silhouette = metrics.silhouette_score(books_data_train['review/score'].to_numpy().reshape(-1, 1), cluster_labels)\n",
    "dunn = metrics.davies_bouldin_score(books_data_train['review/score'].to_numpy().reshape(-1, 1), cluster_labels)\n",
    "chs = metrics.calinski_harabasz_score(books_data_train['review/score'].to_numpy().reshape(-1, 1), cluster_labels)\n",
    "print(\"kMeans: silhouette: \", silhouette, \", dunn: \", dunn, \", chs: \", chs)"
   ]
  },
  {
   "cell_type": "code",
   "execution_count": 21,
   "id": "83edf42a",
   "metadata": {},
   "outputs": [
    {
     "data": {
      "image/png": "[encoded data removed]",
      "text/plain": [
       "<Figure size 432x288 with 1 Axes>"
      ]
     },
     "metadata": {
      "needs_background": "light"
     },
     "output_type": "display_data"
    }
   ],
   "source": [
    "from scipy.cluster.hierarchy import dendrogram, linkage\n",
    "import scipy.cluster.hierarchy as shc\n",
    "from matplotlib import pyplot as plt\n",
    "dend = shc.dendrogram(shc.linkage(books_data_pivoted['review/score'].to_numpy().reshape(-1, 1), method = 'ward'))\n"
   ]
  },
  {
   "cell_type": "code",
   "execution_count": 22,
   "id": "a5469d5b",
   "metadata": {},
   "outputs": [],
   "source": [
    "from sklearn.cluster import AgglomerativeClustering\n",
    "cluster = AgglomerativeClustering(n_clusters = 5, affinity = 'euclidean', linkage = 'ward')\n",
    "predictedLabelAgglomerative = cluster.fit_predict(books_data_pivoted['review/score'].to_numpy().reshape(-1, 1))"
   ]
  },
  {
   "cell_type": "code",
   "execution_count": 23,
   "id": "9f36d1ad",
   "metadata": {},
   "outputs": [
    {
     "name": "stdout",
     "output_type": "stream",
     "text": [
      "Agglomerative: silhouette:  0.7068613498598997 , dunn:  0.4611718233585004 , chs:  26257.658948857123\n"
     ]
    }
   ],
   "source": [
    "silhouette_agglomerative = metrics.silhouette_score(books_data_pivoted['review/score'].to_numpy().reshape(-1, 1), predictedLabelAgglomerative)\n",
    "dunn_aglomerative = metrics.davies_bouldin_score(books_data_pivoted['review/score'].to_numpy().reshape(-1, 1), predictedLabelAgglomerative)\n",
    "chs_aglomerative = metrics.calinski_harabasz_score(books_data_pivoted['review/score'].to_numpy().reshape(-1, 1), predictedLabelAgglomerative)\n",
    "print(\"Agglomerative: silhouette: \", silhouette_agglomerative, \", dunn: \", dunn_aglomerative, \", chs: \", chs_aglomerative)"
   ]
  },
  {
   "cell_type": "code",
   "execution_count": 24,
   "id": "c4e4e228",
   "metadata": {},
   "outputs": [],
   "source": [
    "books_data_cluster = books_data_pivoted.copy()\n",
    "books_data_cluster['Cluster'] = predictedLabelAgglomerative"
   ]
  },
  {
   "cell_type": "code",
   "execution_count": 25,
   "id": "c6e1a1d6",
   "metadata": {},
   "outputs": [
    {
     "name": "stdout",
     "output_type": "stream",
     "text": [
      "review/score    4.0\n",
      "Cluster         2.0\n",
      "Name: 1 Corinthians (The NIV Application Commentary), dtype: float64\n",
      "Recommended Books:\n",
      "==================\n",
      "1 .  review/score    4.0\n",
      "Cluster         2.0\n",
      "Name: 1 Corinthians (The NIV Application Commentary), dtype: float64\n",
      "2 .  review/score    4.2\n",
      "Cluster         2.0\n",
      "Name: 1001 Books You Must Read Before You Die, dtype: float64\n",
      "3 .  review/score    4.0\n",
      "Cluster         2.0\n",
      "Name: 101 Questions & Answers on the Four Last Things (Responses to 101 Questions), dtype: float64\n",
      "4 .  review/score    4.0\n",
      "Cluster         2.0\n",
      "Name: 101 Things to Do with a Tortilla, dtype: float64\n",
      "5 .  review/score    4.0\n",
      "Cluster         2.0\n",
      "Name: 180 More: Extraordinary Poems for Every Day, dtype: float64\n",
      "6 .  review/score    4.0\n",
      "Cluster         2.0\n",
      "Name: 1898: The Birth of the American Century, dtype: float64\n",
      "7 .  review/score    4.0\n",
      "Cluster         2.0\n",
      "Name: 19 Gifts of the Spirit, dtype: float64\n",
      "8 .  review/score    4.0\n",
      "Cluster         2.0\n",
      "Name: 2005 Novel & Short Story Writer's Market, dtype: float64\n",
      "9 .  review/score    4.0\n",
      "Cluster         2.0\n",
      "Name: 2176: Birth of the Belt Republic (Belt Republic, Book 1), dtype: float64\n",
      "10 .  review/score    4.0\n",
      "Cluster         2.0\n",
      "Name: 27 Men Out: Baseball's Perfect Games, dtype: float64\n"
     ]
    }
   ],
   "source": [
    "book = books_data_cluster.iloc[10]\n",
    "print(book)\n",
    "\n",
    "cluster = book['Cluster']\n",
    "predictedBookIndicesAgglomerative = np.where(predictedLabelAgglomerative == cluster)\n",
    "print(\"Recommended Books:\")\n",
    "print(\"==================\")\n",
    "for i in range(0, 10):\n",
    "    print((i+1),\". \",books_data_cluster.iloc[predictedBookIndicesAgglomerative[0][i]])"
   ]
  },
  {
   "cell_type": "code",
   "execution_count": 94,
   "id": "1d06766b",
   "metadata": {},
   "outputs": [],
   "source": [
    "x = sorted(set(books_data_sample['categories']))\n",
    "genre_by_id = dict([(y,x+1) for x,y in enumerate(x)])\n",
    "id_by_genre = dict([(x+1, y) for x,y in enumerate(x)])"
   ]
  },
  {
   "cell_type": "code",
   "execution_count": 82,
   "id": "0864597b",
   "metadata": {},
   "outputs": [
    {
     "name": "stdout",
     "output_type": "stream",
     "text": [
      "                                                    categories\n",
      "Title                                                         \n",
      "\"Forget Not Love\": The Passion of Maximilian Kolbe         129\n",
      "\"Happiness Is Not My Companion\": The Life of Ge...          97\n",
      "\"Mom, Dad . . . I'm Pregnant\": When Your Daught...         129\n",
      "\"Mom, I Hate My Life!\": Becoming Your Daughter'...          81\n",
      "\"The Super Short, Amazing Story of David & Goli...         127\n",
      "...                                                        ...\n",
      "Zondervan's Compact Bible Dictionary                        31\n",
      "Zoo - ology                                                104\n",
      "bills open kitchen                                          58\n",
      "comeback - a mother and daughter's journey thro...          33\n",
      "sendmail Desktop Reference (Pocket Reference)               54\n",
      "\n",
      "[5194 rows x 1 columns]\n"
     ]
    },
    {
     "data": {
      "text/plain": [
       "<matplotlib.collections.PathCollection at 0x179987a0eb0>"
      ]
     },
     "execution_count": 82,
     "metadata": {},
     "output_type": "execute_result"
    },
    {
     "data": {
      "image/png": "[encoded data removed]",
      "text/plain": [
       "<Figure size 432x288 with 1 Axes>"
      ]
     },
     "metadata": {
      "needs_background": "light"
     },
     "output_type": "display_data"
    }
   ],
   "source": [
    "books_genre_pivoted = books_data_sample.pivot_table(index='Title',values='categories', aggfunc='first').fillna(0)\n",
    "books_genre_pivoted['categories'] = books_genre_pivoted.categories.replace(genre_by_id) \n",
    "print(books_genre_pivoted)\n",
    "books_author_pivoted = books_data_sample.pivot_table(index='Title',values='authors', aggfunc='first').fillna(0)\n",
    "books_genre_author_pivoted = books_author_pivoted.merge(books_genre_pivoted, on='Title')\n",
    "plt.axis('off')\n",
    "plt.scatter(books_genre_author_pivoted['authors'], books_genre_author_pivoted['categories'])"
   ]
  },
  {
   "cell_type": "code",
   "execution_count": 83,
   "id": "fa787966",
   "metadata": {},
   "outputs": [
    {
     "data": {
      "text/plain": [
       "<matplotlib.collections.PathCollection at 0x179a7dc79a0>"
      ]
     },
     "execution_count": 83,
     "metadata": {},
     "output_type": "execute_result"
    },
    {
     "data": {
      "image/png": "[encoded data removed]",
      "text/plain": [
       "<Figure size 432x288 with 1 Axes>"
      ]
     },
     "metadata": {
      "needs_background": "light"
     },
     "output_type": "display_data"
    }
   ],
   "source": [
    "books_genre_rating_pivoted = books_data_pivoted.merge(books_genre_pivoted, on='Title')\n",
    "books_genre_rating_pivoted.head()\n",
    "plt.scatter(books_genre_rating_pivoted['categories'], books_genre_rating_pivoted['review/score'])"
   ]
  },
  {
   "cell_type": "code",
   "execution_count": 84,
   "id": "bb697ccc",
   "metadata": {},
   "outputs": [],
   "source": [
    "genre_rating_train, genre_rating_test = train_test_split(books_genre_rating_pivoted, test_size=0.2, random_state=42)"
   ]
  },
  {
   "cell_type": "code",
   "execution_count": 85,
   "id": "530ea943",
   "metadata": {},
   "outputs": [],
   "source": [
    "kmeans_train_data = np.reshape(genre_rating_train.to_numpy(), (-1, 2))"
   ]
  },
  {
   "cell_type": "code",
   "execution_count": 86,
   "id": "1704e2e7",
   "metadata": {},
   "outputs": [],
   "source": [
    "kmeans_genre_rating = KMeans(n_clusters=7, random_state=0)\n",
    "cluster_labels = kmeans.fit_predict(kmeans_train_data)"
   ]
  },
  {
   "cell_type": "code",
   "execution_count": 114,
   "id": "5f437f3a",
   "metadata": {},
   "outputs": [
    {
     "name": "stdout",
     "output_type": "stream",
     "text": [
      "A Jealous God: Science's Crusade Against Religion , Score:  5.0 , Category:  ['Political Science']\n",
      "Recommended Books:\n",
      "==================\n",
      "1 . \n",
      "Women and the Genesis of Christianity , Score:  5.0 , Category:  ['Religion']\n",
      "2 . \n",
      "Putting On a Gentle And Quiet Spirit: 1 Peter (A Woman After God's Own Heart) , Score:  4.0 , Category:  ['Religion']\n",
      "3 . \n",
      "Who's Looking Out for You? , Score:  3.3333333333333335 , Category:  ['Political Science']\n",
      "4 . \n",
      "Iceman: Uncovering the Life and Times of a Prehistoric Man Found in an Alpine Glacier , Score:  4.333333333333333 , Category:  ['Social Science']\n",
      "5 . \n",
      "When Am I Going to Be Happy?: How to Break the Emotional Bad Habits That Make You Miserable , Score:  4.333333333333333 , Category:  ['Psychology']\n",
      "6 . \n",
      "Invisible Darkness: The Strange Case Of Paul Bernardo and Karla Homolka , Score:  4.333333333333333 , Category:  ['True Crime']\n",
      "7 . \n",
      "Television Fundamentals , Score:  4.0 , Category:  ['Technology']\n",
      "8 . \n",
      "Ancient Near Eastern Thought and the Old Testament: Introducing the Conceptual World of the Hebrew Bible , Score:  5.0 , Category:  ['Religion']\n",
      "9 . \n",
      "Evangeline (French Edition) , Score:  5.0 , Category:  ['Poetry']\n",
      "10 . \n",
      "Courage to be Christian: Entering a Life of Spiritual Passion , Score:  5.0 , Category:  ['Religion']\n"
     ]
    }
   ],
   "source": [
    "book = genre_rating_test.iloc[90]\n",
    "print(book.name, \", Score: \", book['review/score'], \", Category: \", id_by_genre.get(book['categories']))\n",
    "\n",
    "predictedCluster = kmeans.predict(np.reshape(book.to_numpy(), (-1, 2)))\n",
    "predictedBookIndices = np.where(cluster_labels == predictedCluster)\n",
    "print(\"Recommended Books:\")\n",
    "print(\"==================\")\n",
    "for i in range(0, 10):\n",
    "    book = genre_rating_train.iloc[predictedBookIndices[0][i]]\n",
    "    print((i+1),\". \")\n",
    "    print(book.name, \", Score: \", book['review/score'], \", Category: \", id_by_genre.get(book['categories']))"
   ]
  },
  {
   "cell_type": "code",
   "execution_count": 93,
   "id": "88202998",
   "metadata": {},
   "outputs": [
    {
     "name": "stdout",
     "output_type": "stream",
     "text": [
      "kMeans rating and genre: silhouette:  0.722999844463289 , dunn:  0.36457193998994725 , chs:  48531.41796987763\n"
     ]
    }
   ],
   "source": [
    "silhouette = metrics.silhouette_score(kmeans_train_data, cluster_labels)\n",
    "dunn = metrics.davies_bouldin_score(kmeans_train_data, cluster_labels)\n",
    "chs = metrics.calinski_harabasz_score(kmeans_train_data, cluster_labels)\n",
    "print(\"kMeans rating and genre: silhouette: \", silhouette, \", dunn: \", dunn, \", chs: \", chs)"
   ]
  }
 ],
 "metadata": {
  "kernelspec": {
   "display_name": "Python 3 (ipykernel)",
   "language": "python",
   "name": "python3"
  },
  "language_info": {
   "codemirror_mode": {
    "name": "ipython",
    "version": 3
   },
   "file_extension": ".py",
   "mimetype": "text/x-python",
   "name": "python",
   "nbconvert_exporter": "python",
   "pygments_lexer": "ipython3",
   "version": "3.9.12"
  }
 },
 "nbformat": 4,
 "nbformat_minor": 5
}
